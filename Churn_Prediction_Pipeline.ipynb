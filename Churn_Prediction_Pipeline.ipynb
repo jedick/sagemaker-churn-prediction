{
 "cells": [
  {
   "cell_type": "markdown",
   "id": "f7dd377d-fff9-4b46-b88d-f50dfd723ed3",
   "metadata": {},
   "source": [
    "## Step 1: Import packages and declare constants"
   ]
  },
  {
   "cell_type": "code",
   "execution_count": null,
   "id": "f66c31a8-f813-41d6-a91f-d0e42580aa04",
   "metadata": {},
   "outputs": [],
   "source": [
    "import boto3\n",
    "import sagemaker\n",
    "import datetime as dt\n",
    "import pandas as pd\n",
    "import io\n",
    "\n",
    "# Replace this value with the S3 bucket created previously\n",
    "bucket = \"churn-prediction-sagemaker-demo\"\n",
    "\n",
    "region = boto3.Session().region_name\n",
    "role = sagemaker.get_execution_role()\n",
    "sess = sagemaker.Session()\n",
    "sklearn_processor_version=\"0.23-1\"\n",
    "model_package_group_name=\"ChurnModelPackageGroup\"\n",
    "pipeline_name= \"ChurnModelSMPipeline\"\n",
    "clarify_image = sagemaker.image_uris.retrieve(framework='sklearn', version=sklearn_processor_version, region=region)"
   ]
  },
  {
   "cell_type": "markdown",
   "id": "06c7974a-5682-4d32-9260-5d8e591939b1",
   "metadata": {},
   "source": [
    "## Step 2: Generate baseline dataset\n",
    "\n",
    "Baseline Data will be used as part of SageMaker Clarify Step to generate SHAP Values"
   ]
  },
  {
   "cell_type": "code",
   "execution_count": null,
   "id": "34f363d0-06db-49a8-8403-a6d8a937c4fd",
   "metadata": {},
   "outputs": [],
   "source": [
    "def preprocess_data(df):\n",
    "    \"\"\"\n",
    "    Preprocess the dataset\n",
    "    \"\"\"\n",
    "    # Convert to datetime columns\n",
    "    df[\"firstorder\"] = pd.to_datetime(df[\"firstorder\"], errors=\"coerce\")\n",
    "    df[\"lastorder\"] = pd.to_datetime(df[\"lastorder\"], errors=\"coerce\")\n",
    "    # Drop Rows with null values\n",
    "    df = df.dropna()\n",
    "    # Create column which gives the days between the first and last orders\n",
    "    df[\"first_last_days_diff\"] = (df[\"lastorder\"] - df[\"firstorder\"]).dt.days\n",
    "    # Create column which gives the days between creation and first order\n",
    "    df[\"created\"] = pd.to_datetime(df[\"created\"])\n",
    "    df[\"created_first_days_diff\"] = (df[\"created\"] - df[\"firstorder\"]).dt.days\n",
    "    # Drop unused columns\n",
    "    unused_columns = [\"custid\", \"created\", \"firstorder\", \"lastorder\"]\n",
    "    df.drop(unused_columns, axis=1, inplace=True)\n",
    "    # Apply one hot encoding on categorical columns\n",
    "    cat_columns = [\"favday\", \"city\"]\n",
    "    df = pd.get_dummies(df, prefix=cat_columns, columns=cat_columns, dtype=int)\n",
    "    return df\n",
    "\n",
    "\n",
    "# Read file in S3 bucket\n",
    "file_key = \"data/storedata_total.csv\"\n",
    "# Create an S3 client\n",
    "s3_client = boto3.client(\"s3\")\n",
    "# Get the object from S3\n",
    "obj = s3_client.get_object(Bucket=bucket, Key=file_key)\n",
    "# Read the object content and load it into a pandas DataFrame\n",
    "df = pd.read_csv(io.BytesIO(obj[\"Body\"].read()))\n",
    "\n",
    "baseline_data = preprocess_data(df)\n",
    "baseline_data.pop(\"retained\")\n",
    "baseline_sample = baseline_data.sample(frac=0.0002)\n",
    "\n",
    "pd.DataFrame(baseline_sample).to_csv(\"data/baseline.csv\", header=False, index=False)"
   ]
  },
  {
   "cell_type": "markdown",
   "id": "783d303a-dcd9-4479-b04c-7dd8afe9e108",
   "metadata": {},
   "source": [
    "## Step 3: Generate batch dataset"
   ]
  },
  {
   "cell_type": "code",
   "execution_count": null,
   "id": "0af88248-de4e-41bc-8734-018289acd29d",
   "metadata": {},
   "outputs": [],
   "source": [
    "batch_data = preprocess_data(df)\n",
    "batch_data.pop(\"retained\")\n",
    "batch_sample = batch_data.sample(frac=0.2)\n",
    "pd.DataFrame(batch_sample).to_csv(\"data/batch.csv\", header=False, index=False)"
   ]
  },
  {
   "cell_type": "markdown",
   "id": "981007fc-b0e1-42ff-b878-c1c3dba59383",
   "metadata": {},
   "source": [
    "## Step 4: Copy data to S3 bucket"
   ]
  },
  {
   "cell_type": "code",
   "execution_count": null,
   "id": "8cf50bc5-764f-4838-af2a-f771d98a44bb",
   "metadata": {},
   "outputs": [],
   "source": [
    "s3_client = boto3.resource('s3')\n",
    "s3_client.Bucket(bucket).upload_file(\"data/batch.csv\", \"data/batch/batch.csv\")\n",
    "s3_client.Bucket(bucket).upload_file(\"data/baseline.csv\", \"input/baseline/baseline.csv\")"
   ]
  },
  {
   "cell_type": "markdown",
   "id": "f377bef8-6510-4463-a05c-24bcf5ea2c2a",
   "metadata": {},
   "source": [
    "## Step 5: Get the pipeline instance"
   ]
  },
  {
   "cell_type": "code",
   "execution_count": null,
   "id": "79dda8ad-f256-4ea9-bb57-978153ba0c7a",
   "metadata": {},
   "outputs": [],
   "source": [
    "from pipeline import get_pipeline\n",
    "\n",
    "pipeline = get_pipeline(\n",
    "    region = region,\n",
    "    role=role,\n",
    "    default_bucket=bucket,\n",
    "    model_package_group_name=model_package_group_name,\n",
    "    pipeline_name=pipeline_name,\n",
    "    custom_image_uri=clarify_image,\n",
    "    sklearn_processor_version=sklearn_processor_version\n",
    ")"
   ]
  },
  {
   "cell_type": "code",
   "execution_count": null,
   "id": "6678cf6e-207e-4bed-97db-415c39259c85",
   "metadata": {},
   "outputs": [],
   "source": [
    "pipeline.definition()"
   ]
  },
  {
   "cell_type": "markdown",
   "id": "5be53424-55a6-4d17-8079-bfde41383937",
   "metadata": {},
   "source": [
    "## Step 6: Submit the pipeline to SageMaker and start execution"
   ]
  },
  {
   "cell_type": "code",
   "execution_count": null,
   "id": "32e86ba4-8f81-4775-bc78-73ce9af8aeb4",
   "metadata": {},
   "outputs": [],
   "source": [
    "# Submit the pipeline\n",
    "pipeline.upsert(role_arn=role)"
   ]
  },
  {
   "cell_type": "code",
   "execution_count": null,
   "id": "fd798486-117d-411d-97cd-e3243d91e7ae",
   "metadata": {},
   "outputs": [],
   "source": [
    "# Start pipeline execution\n",
    "execution = pipeline.start()"
   ]
  },
  {
   "cell_type": "code",
   "execution_count": null,
   "id": "13392c68-dd7e-4040-8b16-78807df4e6d4",
   "metadata": {},
   "outputs": [],
   "source": [
    "# Describe execution instance\n",
    "execution.describe()"
   ]
  },
  {
   "cell_type": "code",
   "execution_count": null,
   "id": "235b9645-8e29-492e-9208-c02b3dc157a6",
   "metadata": {},
   "outputs": [],
   "source": [
    "# List the execution steps to check out the status and artifacts\n",
    "execution.list_steps()"
   ]
  }
 ],
 "metadata": {
  "kernelspec": {
   "display_name": "Python 3 (ipykernel)",
   "language": "python",
   "name": "python3"
  },
  "language_info": {
   "codemirror_mode": {
    "name": "ipython",
    "version": 3
   },
   "file_extension": ".py",
   "mimetype": "text/x-python",
   "name": "python",
   "nbconvert_exporter": "python",
   "pygments_lexer": "ipython3",
   "version": "3.11.11"
  }
 },
 "nbformat": 4,
 "nbformat_minor": 5
}
